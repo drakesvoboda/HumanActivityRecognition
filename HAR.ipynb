{
 "cells": [
  {
   "cell_type": "code",
   "execution_count": 213,
   "metadata": {},
   "outputs": [],
   "source": [
    "import os\n",
    "import numpy as np\n",
    "import pandas as pd\n",
    "\n",
    "from matplotlib import pyplot as plt"
   ]
  },
  {
   "cell_type": "code",
   "execution_count": 214,
   "metadata": {},
   "outputs": [],
   "source": [
    "def load_dataset(directory):\n",
    "    subjects = list()\n",
    "    directory\n",
    "    for name in os.listdir(directory):\n",
    "        filename = directory + '/' + name\n",
    "        if not filename.endswith('.csv'): continue\n",
    "        df = pd.read_csv(filename, header=None, names=[\"x\", \"y\", \"z\", \"label\"], index_col=0)\n",
    "        subjects.append(df)\n",
    "    return subjects"
   ]
  },
  {
   "cell_type": "code",
   "execution_count": 215,
   "metadata": {},
   "outputs": [
    {
     "name": "stdout",
     "output_type": "stream",
     "text": [
      "162501\n"
     ]
    },
    {
     "data": {
      "text/html": [
       "<div>\n",
       "<style scoped>\n",
       "    .dataframe tbody tr th:only-of-type {\n",
       "        vertical-align: middle;\n",
       "    }\n",
       "\n",
       "    .dataframe tbody tr th {\n",
       "        vertical-align: top;\n",
       "    }\n",
       "\n",
       "    .dataframe thead th {\n",
       "        text-align: right;\n",
       "    }\n",
       "</style>\n",
       "<table border=\"1\" class=\"dataframe\">\n",
       "  <thead>\n",
       "    <tr style=\"text-align: right;\">\n",
       "      <th></th>\n",
       "      <th>x</th>\n",
       "      <th>y</th>\n",
       "      <th>z</th>\n",
       "      <th>label</th>\n",
       "    </tr>\n",
       "  </thead>\n",
       "  <tbody>\n",
       "    <tr>\n",
       "      <th>0.0</th>\n",
       "      <td>1502</td>\n",
       "      <td>2215</td>\n",
       "      <td>2153</td>\n",
       "      <td>1</td>\n",
       "    </tr>\n",
       "    <tr>\n",
       "      <th>1.0</th>\n",
       "      <td>1667</td>\n",
       "      <td>2072</td>\n",
       "      <td>2047</td>\n",
       "      <td>1</td>\n",
       "    </tr>\n",
       "    <tr>\n",
       "      <th>2.0</th>\n",
       "      <td>1611</td>\n",
       "      <td>1957</td>\n",
       "      <td>1906</td>\n",
       "      <td>1</td>\n",
       "    </tr>\n",
       "    <tr>\n",
       "      <th>3.0</th>\n",
       "      <td>1601</td>\n",
       "      <td>1939</td>\n",
       "      <td>1831</td>\n",
       "      <td>1</td>\n",
       "    </tr>\n",
       "    <tr>\n",
       "      <th>4.0</th>\n",
       "      <td>1643</td>\n",
       "      <td>1965</td>\n",
       "      <td>1879</td>\n",
       "      <td>1</td>\n",
       "    </tr>\n",
       "  </tbody>\n",
       "</table>\n",
       "</div>"
      ],
      "text/plain": [
       "        x     y     z  label\n",
       "0.0  1502  2215  2153      1\n",
       "1.0  1667  2072  2047      1\n",
       "2.0  1611  1957  1906      1\n",
       "3.0  1601  1939  1831      1\n",
       "4.0  1643  1965  1879      1"
      ]
     },
     "execution_count": 215,
     "metadata": {},
     "output_type": "execute_result"
    }
   ],
   "source": [
    "subjects = load_dataset(\"E:\\datasets\\HAR\")\n",
    "print(len(subjects[0]))\n",
    "subjects[0].head()"
   ]
  },
  {
   "cell_type": "code",
   "execution_count": 216,
   "metadata": {},
   "outputs": [],
   "source": [
    "def plot_subject(df):\n",
    "    fig, (ax1, ax2, ax3, ax4) = plt.subplots(4, 1)\n",
    "\n",
    "    ax1.plot(df[\"x\"])\n",
    "    ax2.plot(df[\"y\"])\n",
    "    ax3.plot(df[\"z\"])\n",
    "    ax4.plot(df[\"label\"])\n",
    "        \n",
    "    plt.show()\n",
    "      \n",
    "def plot_seq(seq):\n",
    "    fig, (ax1, ax2, ax3, ax4) = plt.subplots(4, 1)\n",
    "\n",
    "    ax1.plot(seq[0])\n",
    "    ax2.plot(seq[1])\n",
    "    ax3.plot(seq[2])\n",
    "    ax4.plot(seq[3])\n",
    "        \n",
    "    plt.show()"
   ]
  },
  {
   "cell_type": "code",
   "execution_count": 252,
   "metadata": {},
   "outputs": [
    {
     "data": {
      "image/png": "[encoded data removed]",
      "text/plain": [
       "<Figure size 432x288 with 4 Axes>"
      ]
     },
     "metadata": {
      "needs_background": "light"
     },
     "output_type": "display_data"
    },
    {
     "data": {
      "text/html": [
       "<div>\n",
       "<style scoped>\n",
       "    .dataframe tbody tr th:only-of-type {\n",
       "        vertical-align: middle;\n",
       "    }\n",
       "\n",
       "    .dataframe tbody tr th {\n",
       "        vertical-align: top;\n",
       "    }\n",
       "\n",
       "    .dataframe thead th {\n",
       "        text-align: right;\n",
       "    }\n",
       "</style>\n",
       "<table border=\"1\" class=\"dataframe\">\n",
       "  <thead>\n",
       "    <tr style=\"text-align: right;\">\n",
       "      <th></th>\n",
       "      <th>x</th>\n",
       "      <th>y</th>\n",
       "      <th>z</th>\n",
       "      <th>label</th>\n",
       "    </tr>\n",
       "  </thead>\n",
       "  <tbody>\n",
       "    <tr>\n",
       "      <th>0.0</th>\n",
       "      <td>1502</td>\n",
       "      <td>2215</td>\n",
       "      <td>2153</td>\n",
       "      <td>1</td>\n",
       "    </tr>\n",
       "    <tr>\n",
       "      <th>1.0</th>\n",
       "      <td>1667</td>\n",
       "      <td>2072</td>\n",
       "      <td>2047</td>\n",
       "      <td>1</td>\n",
       "    </tr>\n",
       "    <tr>\n",
       "      <th>2.0</th>\n",
       "      <td>1611</td>\n",
       "      <td>1957</td>\n",
       "      <td>1906</td>\n",
       "      <td>1</td>\n",
       "    </tr>\n",
       "    <tr>\n",
       "      <th>3.0</th>\n",
       "      <td>1601</td>\n",
       "      <td>1939</td>\n",
       "      <td>1831</td>\n",
       "      <td>1</td>\n",
       "    </tr>\n",
       "    <tr>\n",
       "      <th>4.0</th>\n",
       "      <td>1643</td>\n",
       "      <td>1965</td>\n",
       "      <td>1879</td>\n",
       "      <td>1</td>\n",
       "    </tr>\n",
       "  </tbody>\n",
       "</table>\n",
       "</div>"
      ],
      "text/plain": [
       "        x     y     z  label\n",
       "0.0  1502  2215  2153      1\n",
       "1.0  1667  2072  2047      1\n",
       "2.0  1611  1957  1906      1\n",
       "3.0  1601  1939  1831      1\n",
       "4.0  1643  1965  1879      1"
      ]
     },
     "execution_count": 252,
     "metadata": {},
     "output_type": "execute_result"
    }
   ],
   "source": [
    "plot_subject(subjects[0])\n",
    "subjects[0].head()"
   ]
  },
  {
   "cell_type": "code",
   "execution_count": 279,
   "metadata": {},
   "outputs": [],
   "source": [
    "def subject_to_seq(subject, window_width, seq_len):    \n",
    "    windows = [subject[i:i+window_width] for i in range(0, len(subject), window_width)]\n",
    "    if len(windows[-1]) < window_width: windows = windows[:-1] \n",
    "    seqs = [np.array(windows[i:i+seq_len]).transpose(0, 2, 1) for i in range(0, len(windows), seq_len)]  \n",
    "    return seqs"
   ]
  },
  {
   "cell_type": "code",
   "execution_count": 280,
   "metadata": {},
   "outputs": [
    {
     "name": "stdout",
     "output_type": "stream",
     "text": [
      "(25, 4, 52)\n"
     ]
    }
   ],
   "source": [
    "seqs = subject_to_seq(subjects[1].to_numpy(), 52, 25)\n",
    "print(seqs[0].shape)"
   ]
  },
  {
   "cell_type": "code",
   "execution_count": 283,
   "metadata": {},
   "outputs": [],
   "source": [
    "from torch.utils.data import Dataset, DataLoader\n",
    "\n",
    "class HARDataset(Dataset):\n",
    "    def __init__(self, subjects, window_width=52, seq_len=25):\n",
    "        self.subjects = subjects\n",
    "        self.seq_len = seq_len\n",
    "        self.window_width = window_width     \n",
    "        self.seqs = []\n",
    "        \n",
    "        for sub in self.subjects:\n",
    "            self.seqs += subject_to_seq(sub.to_numpy(), window_width, seq_len)\n",
    "        \n",
    "    def __len__(self):\n",
    "        return len(self.seqs)\n",
    "    \n",
    "    def __getitem__(self, idx):\n",
    "        seq = self.seqs[idx]\n",
    "        return seq[:,:3,:], seq[:,-1,:]"
   ]
  },
  {
   "cell_type": "code",
   "execution_count": 289,
   "metadata": {},
   "outputs": [
    {
     "data": {
      "text/plain": [
       "array([[1651, 1632, 1632, 1648, 1643, 1638, 1586, 1578, 1559, 1635, 1671,\n",
       "        1687, 1704, 1757, 1806, 1814, 1839, 1844, 1929, 1806, 1782, 1775,\n",
       "        1855, 1893, 1876, 1950, 1811, 1876, 1889, 1883, 1902, 1937, 1978,\n",
       "        2026, 2066, 2106, 2123, 2052, 2006, 2028, 2034, 1985, 1997, 2069,\n",
       "        2081, 2105, 2131, 2098, 2127, 2175, 2029, 2191],\n",
       "       [2188, 2226, 2227, 2226, 2242, 2284, 2279, 2309, 2263, 2300, 2221,\n",
       "        2237, 2222, 2251, 2220, 2189, 2139, 2134, 2409, 2043, 2541, 2184,\n",
       "        2142, 2221, 2244, 2319, 2259, 2298, 2297, 2295, 2284, 2275, 2290,\n",
       "        2295, 2307, 2322, 2323, 2291, 2291, 2332, 2347, 2302, 2323, 2334,\n",
       "        2327, 2294, 2267, 2254, 2277, 2267, 2174, 2211],\n",
       "       [1951, 1956, 1990, 1953, 1955, 1966, 1882, 1748, 1978, 2010, 1918,\n",
       "        1771, 1758, 1849, 1794, 1827, 1882, 1929, 2739, 1799, 2169, 1935,\n",
       "        1835, 1756, 1747, 1671, 1713, 1680, 1644, 1717, 1773, 1780, 1806,\n",
       "        1821, 1828, 1826, 1815, 1851, 1840, 1749, 1709, 1755, 1735, 1721,\n",
       "        1775, 1825, 1858, 1879, 1830, 1800, 1743, 1820]], dtype=int64)"
      ]
     },
     "execution_count": 289,
     "metadata": {},
     "output_type": "execute_result"
    }
   ],
   "source": [
    "dataset = HARDataset(subjects)\n",
    "vals, label = dataset[0]"
   ]
  },
  {
   "cell_type": "code",
   "execution_count": null,
   "metadata": {},
   "outputs": [],
   "source": [
    "from torch.utils.data import Dataset\n",
    "\n",
    "class FFT(object):\n",
    "    def __call__(self, signal):\n",
    "        return torch.fft(signal, 1)"
   ]
  },
  {
   "cell_type": "code",
   "execution_count": null,
   "metadata": {},
   "outputs": [],
   "source": [
    "class HARTagger(nn.Module):  \n",
    "    def __init__(self, input_dim, hidden_dim, output_dim):\n",
    "        super(HARTagger, self).__init__()\n",
    "        self.hidden_dim = hidden_dim\n",
    "\n",
    "        self.lstm_x = nn.LSTM(input_dim, hidden_dim)\n",
    "        self.lstm_y = nn.LSTM(input_dim, hidden_dim)\n",
    "        self.lstm_z = nn.LSTM(input_dim, hidden_dim)\n",
    "\n",
    "        self.linear = nn.Linear(hidden_dim*3, output_dim)\n",
    "\n",
    "    def forward(self, sentence):\n",
    "        lstm_out, _ = self.lstm(embeds.view(len(sentence), 1, -1))\n",
    "        tag_space = self.linear(lstm_out.view(len(sentence), -1))\n",
    "        return tag_scores"
   ]
  }
 ],
 "metadata": {
  "kernelspec": {
   "display_name": "Python 3",
   "language": "python",
   "name": "python3"
  },
  "language_info": {
   "codemirror_mode": {
    "name": "ipython",
    "version": 3
   },
   "file_extension": ".py",
   "mimetype": "text/x-python",
   "name": "python",
   "nbconvert_exporter": "python",
   "pygments_lexer": "ipython3",
   "version": "3.7.6"
  }
 },
 "nbformat": 4,
 "nbformat_minor": 4
}
